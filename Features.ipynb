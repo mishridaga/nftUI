{
 "cells": [
  {
   "cell_type": "markdown",
   "id": "8841e747-65b1-450e-b474-40390b6b9558",
   "metadata": {},
   "source": [
    "# Features Data"
   ]
  },
  {
   "cell_type": "code",
   "execution_count": 7,
   "id": "b950a64a-0c33-492b-8e9c-3300c95a024a",
   "metadata": {},
   "outputs": [],
   "source": [
    "import json\n",
    "import ipywidgets as widgets\n",
    "import pandas as pd \n",
    "from IPython.core.display import display, HTML, clear_output\n",
    "from ipywidgets import Layout, Button, Box, FloatText, Textarea, Dropdown, Label, IntSlider, Dropdown, IntText, Text\n",
    "import requests"
   ]
  },
  {
   "cell_type": "code",
   "execution_count": 2,
   "id": "602a749f-84ee-4086-bd20-56c1ba93a2dd",
   "metadata": {},
   "outputs": [],
   "source": [
    "f = open('response.json',)\n",
    "response = json.load(f)\n",
    "rarities = response['rarities']\n",
    "features = response['features']\n",
    "total_mints = 1000"
   ]
  },
  {
   "cell_type": "markdown",
   "id": "159d3caa-0763-4205-8c99-f676d8749f07",
   "metadata": {},
   "source": [
    "### Buy Feature "
   ]
  },
  {
   "cell_type": "code",
   "execution_count": 3,
   "id": "5711a0e6-3361-47c8-898d-9230f33c1184",
   "metadata": {},
   "outputs": [
    {
     "data": {
      "application/vnd.jupyter.widget-view+json": {
       "model_id": "b3b9f4a36d2e48f18943948e82e56d6d",
       "version_major": 2,
       "version_minor": 0
      },
      "text/plain": [
       "HBox(children=(Dropdown(description='Features:', options=('Borders', 'Cell Aspect', 'Cell Size', 'Colors', 'Di…"
      ]
     },
     "metadata": {},
     "output_type": "display_data"
    }
   ],
   "source": [
    "feature_keys = list(response['features'].keys())\n",
    "feature_menu = widgets.Dropdown(\n",
    "       options=feature_keys,\n",
    "       description='Features:')\n",
    "feature_price = FloatText(\n",
    "    description='Max Price:'\n",
    ")\n",
    "feature_button = widgets.Button(\n",
    "        description='Buy',\n",
    "        disabled=False,\n",
    "        button_style='success', # 'success', 'info', 'warning', 'danger' or ''\n",
    "        tooltip='Buy',\n",
    "        icon='dollar'\n",
    "    )\n",
    "feature_out = widgets.Output()\n",
    "def feature_on_button_clicked(_):\n",
    "    # \"linking function with output\"\n",
    "    with feature_out:\n",
    "        # what happens when we press the button\n",
    "        clear_output()\n",
    "        option = feature_menu.value\n",
    "        price = feature_price.value\n",
    "        print('Buying {} at max price {} eth'.format(option,price))\n",
    "    \n",
    "feature_button.on_click(feature_on_button_clicked)              \n",
    "feature_box = widgets.HBox([feature_menu,feature_price,feature_button,feature_out])\n",
    "feature_box\n",
    "\n",
    "\n"
   ]
  },
  {
   "cell_type": "markdown",
   "id": "ff6c6941-ad2c-4506-9ce7-76d388bb4298",
   "metadata": {},
   "source": [
    "### Buy Mint"
   ]
  },
  {
   "cell_type": "code",
   "execution_count": 6,
   "id": "315bd8ed-dbf9-4f89-a8e1-186c5e7e5333",
   "metadata": {},
   "outputs": [
    {
     "data": {
      "application/vnd.jupyter.widget-view+json": {
       "model_id": "cb190cf1096e4da9ba40f60683ccb114",
       "version_major": 2,
       "version_minor": 0
      },
      "text/plain": [
       "HBox(children=(IntText(value=0, description='Mint Number:'), FloatText(value=0.0, description='Max Price:'), B…"
      ]
     },
     "metadata": {},
     "output_type": "display_data"
    }
   ],
   "source": [
    "mint_number = IntText(\n",
    "    description='Mint Number:'\n",
    ")\n",
    "mint_price = FloatText(\n",
    "    description='Max Price:'\n",
    ")\n",
    "mint_button = widgets.Button(\n",
    "        description='Buy',\n",
    "        disabled=False,\n",
    "        button_style='success', # 'success', 'info', 'warning', 'danger' or ''\n",
    "        tooltip='Buy',\n",
    "        icon='dollar'\n",
    "    )\n",
    "mint_out = widgets.Output()\n",
    "def mint_on_button_clicked(_):\n",
    "    # \"linking function with output\"\n",
    "    with mint_out:\n",
    "        # what happens when we press the button\n",
    "        clear_output()\n",
    "        mint = mint_number.value\n",
    "        price = mint_price.value\n",
    "        print('Buying mint {} at max price {} eth'.format(mint,price))\n",
    "    \n",
    "mint_button.on_click(mint_on_button_clicked)              \n",
    "mint_box = widgets.HBox([mint_number,mint_price,mint_button,mint_out])\n",
    "mint_box"
   ]
  },
  {
   "cell_type": "code",
   "execution_count": 12,
   "id": "12f6821d-aca1-4c87-8c86-47b38d3a05bb",
   "metadata": {},
   "outputs": [
    {
     "data": {
      "application/vnd.jupyter.widget-view+json": {
       "model_id": "8e3fab697665457d826ab618355aee42",
       "version_major": 2,
       "version_minor": 0
      },
      "text/plain": [
       "Tab(children=(Output(), Output(), Output(), Output(), Output(), Output(), Output(), Output(), Output(), Output…"
      ]
     },
     "metadata": {},
     "output_type": "display_data"
    }
   ],
   "source": [
    "outputs = [widgets.Output() for i in range(len(feature_keys) + 1)]\n",
    "tab = widgets.Tab(children = outputs)\n",
    "tab.set_title(0, \"All\")\n",
    "with outputs[0]: \n",
    "    rarities_df = pd.DataFrame.from_dict(rarities)\n",
    "    display(HTML(rarities_df.to_html(escape=False)))\n",
    "    \n",
    "for i in range(1,len(feature_keys)):\n",
    "    tab.set_title(i, feature_keys[i])\n",
    "\n",
    "    \n",
    "for i in range(1,len(outputs)): \n",
    "    with outputs[i]: \n",
    "        display(HTML('<h1>{}</h1>'.format(feature_keys[i])))\n",
    "        data = features[feature_keys[i]]\n",
    "        for d in data: \n",
    "            name = d['name']\n",
    "            mints_count = len(d['mints'])\n",
    "            display(HTML('<h2>{}</h2>({} mints with this feature - {}% of collection)'.format(name,mints_count,mints_count/total_mints * 100 )))        \n",
    "            mints = d['mints'][0:20]\n",
    "            mints_df = pd.DataFrame.from_dict(mints)\n",
    "            mints_df = mints_df[['rank', 'mint_number', 'price', 'os_link', 'render_link']]\n",
    "            display(HTML(mints_df.to_html(escape=False)))\n",
    "        \n",
    "\n",
    "tab"
   ]
  },
  {
   "cell_type": "code",
   "execution_count": null,
   "id": "fad818a1-c692-4a87-b585-def7b6fec81e",
   "metadata": {},
   "outputs": [],
   "source": []
  }
 ],
 "metadata": {
  "kernelspec": {
   "display_name": "Python 3 (ipykernel)",
   "language": "python",
   "name": "python3"
  },
  "language_info": {
   "codemirror_mode": {
    "name": "ipython",
    "version": 3
   },
   "file_extension": ".py",
   "mimetype": "text/x-python",
   "name": "python",
   "nbconvert_exporter": "python",
   "pygments_lexer": "ipython3",
   "version": "3.9.7"
  }
 },
 "nbformat": 4,
 "nbformat_minor": 5
}
