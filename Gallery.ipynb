{
 "cells": [
  {
   "cell_type": "markdown",
   "id": "8841e747-65b1-450e-b474-40390b6b9558",
   "metadata": {},
   "source": [
    "# Features Data"
   ]
  },
  {
   "cell_type": "code",
   "execution_count": 28,
   "id": "b950a64a-0c33-492b-8e9c-3300c95a024a",
   "metadata": {},
   "outputs": [],
   "source": [
    "import json\n",
    "import ipywidgets as widgets\n",
    "import pandas as pd \n",
    "from IPython.core.display import display, HTML, clear_output\n",
    "from ipywidgets import Layout, Button, Box, FloatText, Textarea, Dropdown, Label, IntSlider, Dropdown, IntText, Text\n",
    "import requests\n",
    "from os.path import exists"
   ]
  },
  {
   "cell_type": "code",
   "execution_count": 29,
   "id": "602a749f-84ee-4086-bd20-56c1ba93a2dd",
   "metadata": {},
   "outputs": [],
   "source": [
    "f = open('response.json',)\n",
    "response = json.load(f)\n",
    "rarities = response['rarities']\n",
    "features = response['features']\n",
    "total_mints = 1000\n",
    "test_url = \"https://lh3.googleusercontent.com/jCYKNAQFDdfRStZyqf57SZWmlfsXWaqL-p1-k4dlmxDwsab60j5XEv-p97WKWowDSp_w0OcUgfhvdCY6ZUWFuZJVPuOf8FFtpjg_uQ\""
   ]
  },
  {
   "cell_type": "markdown",
   "id": "159d3caa-0763-4205-8c99-f676d8749f07",
   "metadata": {},
   "source": [
    "### Buy Feature "
   ]
  },
  {
   "cell_type": "code",
   "execution_count": 30,
   "id": "5711a0e6-3361-47c8-898d-9230f33c1184",
   "metadata": {},
   "outputs": [
    {
     "data": {
      "application/vnd.jupyter.widget-view+json": {
       "model_id": "bf0cfbe59e53420da1e442b97d12f00e",
       "version_major": 2,
       "version_minor": 0
      },
      "text/plain": [
       "HBox(children=(Dropdown(description='Features:', options=('Borders', 'Cell Aspect', 'Cell Size', 'Colors', 'Di…"
      ]
     },
     "metadata": {},
     "output_type": "display_data"
    }
   ],
   "source": [
    "feature_keys = list(response['features'].keys())\n",
    "feature_menu = widgets.Dropdown(\n",
    "       options=feature_keys,\n",
    "       description='Features:')\n",
    "feature_price = FloatText(\n",
    "    description='Max Price:'\n",
    ")\n",
    "feature_button = widgets.Button(\n",
    "        description='Buy',\n",
    "        disabled=False,\n",
    "        button_style='success', # 'success', 'info', 'warning', 'danger' or ''\n",
    "        tooltip='Buy',\n",
    "        icon='dollar'\n",
    "    )\n",
    "feature_out = widgets.Output()\n",
    "def feature_on_button_clicked(_):\n",
    "    # \"linking function with output\"\n",
    "    with feature_out:\n",
    "        # what happens when we press the button\n",
    "        clear_output()\n",
    "        option = feature_menu.value\n",
    "        price = feature_price.value\n",
    "        print('Buying {} at max price {} eth'.format(option,price))\n",
    "    \n",
    "feature_button.on_click(feature_on_button_clicked)              \n",
    "feature_box = widgets.HBox([feature_menu,feature_price,feature_button,feature_out])\n",
    "feature_box\n",
    "\n",
    "\n"
   ]
  },
  {
   "cell_type": "markdown",
   "id": "ff6c6941-ad2c-4506-9ce7-76d388bb4298",
   "metadata": {},
   "source": [
    "### Buy Mint"
   ]
  },
  {
   "cell_type": "code",
   "execution_count": 31,
   "id": "315bd8ed-dbf9-4f89-a8e1-186c5e7e5333",
   "metadata": {},
   "outputs": [
    {
     "data": {
      "application/vnd.jupyter.widget-view+json": {
       "model_id": "b208b03fab9647e8a12509522961cdaf",
       "version_major": 2,
       "version_minor": 0
      },
      "text/plain": [
       "HBox(children=(IntText(value=0, description='Mint Number:'), FloatText(value=0.0, description='Max Price:'), B…"
      ]
     },
     "metadata": {},
     "output_type": "display_data"
    }
   ],
   "source": [
    "mint_number = IntText(\n",
    "    description='Mint Number:'\n",
    ")\n",
    "mint_price = FloatText(\n",
    "    description='Max Price:'\n",
    ")\n",
    "mint_button = widgets.Button(\n",
    "        description='Buy',\n",
    "        disabled=False,\n",
    "        button_style='success', # 'success', 'info', 'warning', 'danger' or ''\n",
    "        tooltip='Buy',\n",
    "        icon='dollar'\n",
    "    )\n",
    "mint_out = widgets.Output()\n",
    "def mint_on_button_clicked(_):\n",
    "    # \"linking function with output\"\n",
    "    with mint_out:\n",
    "        # what happens when we press the button\n",
    "        clear_output()\n",
    "        mint = mint_number.value\n",
    "        price = mint_price.value\n",
    "        print('Buying mint {} at max price {} eth'.format(mint,price))\n",
    "    \n",
    "mint_button.on_click(mint_on_button_clicked)              \n",
    "mint_box = widgets.HBox([mint_number,mint_price,mint_button,mint_out])\n",
    "mint_box"
   ]
  },
  {
   "cell_type": "code",
   "execution_count": 32,
   "id": "12f6821d-aca1-4c87-8c86-47b38d3a05bb",
   "metadata": {},
   "outputs": [
    {
     "data": {
      "application/vnd.jupyter.widget-view+json": {
       "model_id": "474e5e547149483885e70cf8c07ad98e",
       "version_major": 2,
       "version_minor": 0
      },
      "text/plain": [
       "Tab(children=(Output(), Output(), Output(), Output(), Output(), Output(), Output(), Output(), Output(), Output…"
      ]
     },
     "metadata": {},
     "output_type": "display_data"
    }
   ],
   "source": [
    "outputs = [widgets.Output() for i in range(len(feature_keys))]\n",
    "tab = widgets.Tab(children = outputs)\n",
    "\n",
    "for i in range(len(feature_keys)):\n",
    "    tab.set_title(i, feature_keys[i])\n",
    "\n",
    "for i in range(len(outputs)): \n",
    "    with outputs[i]: \n",
    "        display(HTML('<h1>{}</h1>'.format(feature_keys[i])))\n",
    "        data = features[feature_keys[i]]\n",
    "        for d in data: \n",
    "            name = d['name']\n",
    "            mints_count = len(d['mints'])\n",
    "            display(HTML('<h2>{}</h2>({} mints with this feature - {}% of collection)'.format(name,mints_count,mints_count/total_mints * 100 )))        \n",
    "            feature_outputs = [widgets.Output() for i in range(2)]\n",
    "            feature_tab = widgets.Tab(children = feature_outputs)\n",
    "            feature_tab.set_title(0, \"data\")\n",
    "            feature_tab.set_title(1, \"gallery\")\n",
    "            with feature_outputs[0]:\n",
    "                mints = d['mints'][0:20]\n",
    "                mints_df = pd.DataFrame.from_dict(mints)\n",
    "                mints_df = mints_df[['rank', 'mint_number', 'price', 'os_link', 'render_link']]\n",
    "                display(HTML(mints_df.to_html(escape=False)))\n",
    "            with feature_outputs[1]:\n",
    "                mints = d['mints'][0:20]\n",
    "                images = []\n",
    "                mints_df = pd.DataFrame.from_dict(mints)\n",
    "                for index,row in mints_df.iterrows(): \n",
    "                    true_mint_num = row['mint_number']\n",
    "                    mint_num = \"12\"\n",
    "                    render_link = row['render_link']\n",
    "                    file_exists = exists(mint_num) \n",
    "                    if not file_exists: \n",
    "                        response = requests.get(test_url)\n",
    "                        f = open(mint_num, \"wb\")\n",
    "                        f.write(response.content)\n",
    "                        f.close()   \n",
    "                    n = open(mint_num, \"rb\")\n",
    "                    byt = n.read()\n",
    "                    img = widgets.Image(\n",
    "                        value=byt,\n",
    "                        format='png',\n",
    "                        width=300,\n",
    "                        height=400,\n",
    "                        description=\"render\"\n",
    "                    )\n",
    "                    text = Text(value=str(true_mint_num));\n",
    "                    box = widgets.VBox([text,img])\n",
    "                    images.append(box)\n",
    "                img_box = widgets.HBox(images)\n",
    "                display(img_box)\n",
    "            display(feature_tab)\n",
    "\n",
    "\n",
    "tab"
   ]
  },
  {
   "cell_type": "code",
   "execution_count": null,
   "id": "c7bb2e32-6839-4464-8feb-555ca7215186",
   "metadata": {},
   "outputs": [],
   "source": []
  }
 ],
 "metadata": {
  "kernelspec": {
   "display_name": "Python 3 (ipykernel)",
   "language": "python",
   "name": "python3"
  },
  "language_info": {
   "codemirror_mode": {
    "name": "ipython",
    "version": 3
   },
   "file_extension": ".py",
   "mimetype": "text/x-python",
   "name": "python",
   "nbconvert_exporter": "python",
   "pygments_lexer": "ipython3",
   "version": "3.9.7"
  }
 },
 "nbformat": 4,
 "nbformat_minor": 5
}
