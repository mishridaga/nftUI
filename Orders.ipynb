{
 "cells": [
  {
   "cell_type": "code",
   "execution_count": 1,
   "id": "d8d0ab6f-832e-4a6e-9277-82e3800f7d68",
   "metadata": {},
   "outputs": [],
   "source": [
    "import json\n",
    "import ipywidgets as widgets\n",
    "import pandas as pd \n",
    "from IPython.core.display import display, HTML, clear_output\n",
    "from ipywidgets import Layout, Button, Box, FloatText, Textarea, Dropdown, Label, IntSlider, Dropdown, IntText, Text"
   ]
  },
  {
   "cell_type": "code",
   "execution_count": 2,
   "id": "5d7d51fd-de4e-49b9-8c89-c363045093a4",
   "metadata": {},
   "outputs": [],
   "source": [
    "f = open('response.json',)\n",
    "f_response = json.load(f)\n",
    "feature_keys = list(f_response['features'].keys())\n",
    "r = open('orders.json',)\n",
    "r_response = json.load(r)\n",
    "mints = r_response['mints']\n",
    "features = r_response['features']"
   ]
  },
  {
   "cell_type": "markdown",
   "id": "41f4d6a5-f00b-4d90-b3d3-e491dd32b392",
   "metadata": {},
   "source": [
    "# Modify Orders"
   ]
  },
  {
   "cell_type": "markdown",
   "id": "f96aba70-225c-4a9d-92cb-2b4741314000",
   "metadata": {},
   "source": [
    "#### Adjust Feature Order"
   ]
  },
  {
   "cell_type": "code",
   "execution_count": 13,
   "id": "78bd308a-f072-4a63-9270-0e16c0adc0be",
   "metadata": {},
   "outputs": [
    {
     "data": {
      "application/vnd.jupyter.widget-view+json": {
       "model_id": "b6351e07dc60435aaf43637f1652d46e",
       "version_major": 2,
       "version_minor": 0
      },
      "text/plain": [
       "HBox(children=(Dropdown(description='Features:', options=('Borders', 'Cell Aspect', 'Cell Size', 'Colors', 'Di…"
      ]
     },
     "metadata": {},
     "output_type": "display_data"
    }
   ],
   "source": [
    "feature_menu = widgets.Dropdown(\n",
    "       options=feature_keys,\n",
    "       description='Features:')\n",
    "feature_price = FloatText(\n",
    "    description='Max Adjusted Price:'\n",
    ")\n",
    "feature_button = widgets.Button(\n",
    "        description='Buy',\n",
    "        disabled=False,\n",
    "        button_style='success', # 'success', 'info', 'warning', 'danger' or ''\n",
    "        tooltip='Buy',\n",
    "        icon='dollar'\n",
    "    )\n",
    "cancel_feature_button = widgets.Button(\n",
    "        description='Cancel',\n",
    "        disabled=False,\n",
    "        button_style='danger', # 'success', 'info', 'warning', 'danger' or ''\n",
    "        tooltip='Cancel',\n",
    "    )\n",
    "feature_out = widgets.Output()\n",
    "def feature_on_button_clicked(_):\n",
    "    # \"linking function with output\"\n",
    "    with feature_out:\n",
    "        # what happens when we press the button\n",
    "        clear_output()\n",
    "        option = feature_menu.value\n",
    "        price = feature_price.value\n",
    "        print('Buying {} at max price {} eth'.format(option,price))\n",
    "def cancel_feature_on_button_clicked(_):\n",
    "    # \"linking function with output\"\n",
    "    with feature_out:\n",
    "        # what happens when we press the button\n",
    "        clear_output()\n",
    "        option = feature_menu.value\n",
    "        print('Cancelling order on feature {}'.format(option))   \n",
    "feature_button.on_click(feature_on_button_clicked)\n",
    "cancel_feature_button.on_click(cancel_feature_on_button_clicked)                  \n",
    "feature_box = widgets.HBox([feature_menu,feature_price,feature_button,cancel_feature_button,feature_out])\n",
    "feature_box"
   ]
  },
  {
   "cell_type": "markdown",
   "id": "6353f097-a0e8-4773-bd5a-8232ebd296f7",
   "metadata": {},
   "source": [
    "#### Adjust Mint Order"
   ]
  },
  {
   "cell_type": "code",
   "execution_count": 11,
   "id": "6d3e1b37-5f6e-4e27-9a25-bbc7d3a28eb8",
   "metadata": {},
   "outputs": [
    {
     "data": {
      "application/vnd.jupyter.widget-view+json": {
       "model_id": "6b000ef78b234daaa2b7e81319e3a68c",
       "version_major": 2,
       "version_minor": 0
      },
      "text/plain": [
       "HBox(children=(IntText(value=0, description='Mint:'), FloatText(value=0.0, description='Max Adjusted Price:'),…"
      ]
     },
     "metadata": {},
     "output_type": "display_data"
    }
   ],
   "source": [
    "mint = IntText(\n",
    "       description='Mint:')\n",
    "mint_price = FloatText(\n",
    "    description='Max Adjusted Price:'\n",
    ")\n",
    "mint_button = widgets.Button(\n",
    "        description='Buy',\n",
    "        disabled=False,\n",
    "        button_style='success', # 'success', 'info', 'warning', 'danger' or ''\n",
    "        tooltip='Buy',\n",
    "        icon='dollar'\n",
    "    )\n",
    "cancel_mint_button = widgets.Button(\n",
    "        description='Cancel',\n",
    "        disabled=False,\n",
    "        button_style='danger', # 'success', 'info', 'warning', 'danger' or ''\n",
    "        tooltip='Cancel',\n",
    "    )\n",
    "mint_out = widgets.Output()\n",
    "def mint_on_button_clicked(_):\n",
    "    # \"linking function with output\"\n",
    "    with mint_out:\n",
    "        # what happens when we press the button\n",
    "        clear_output()\n",
    "        option = mint.value\n",
    "        price = mint_price.value\n",
    "        print('Buying mint {} at max price {} eth'.format(option,price))\n",
    "def cancel_mint_on_button_clicked(_):\n",
    "    # \"linking function with output\"\n",
    "    with mint_out:\n",
    "        # what happens when we press the button\n",
    "        clear_output()\n",
    "        option = mint.value\n",
    "        print('Cancelling order on mint {}'.format(option))    \n",
    "mint_button.on_click(mint_on_button_clicked) \n",
    "cancel_mint_button.on_click(cancel_mint_on_button_clicked)   \n",
    "mint_box = widgets.HBox([mint,mint_price,mint_button,cancel_mint_button,mint_out])\n",
    "mint_box"
   ]
  },
  {
   "cell_type": "markdown",
   "id": "fc0b3dba-611d-4798-a310-18e1a45accb6",
   "metadata": {},
   "source": [
    "# Current Orders"
   ]
  },
  {
   "cell_type": "code",
   "execution_count": 40,
   "id": "e1d7f0f8-b51d-4ffc-9c43-d6c41bddec05",
   "metadata": {},
   "outputs": [
    {
     "data": {
      "application/vnd.jupyter.widget-view+json": {
       "model_id": "d92604702531473b9b35385c628fb7a8",
       "version_major": 2,
       "version_minor": 0
      },
      "text/plain": [
       "HBox(children=(Output(), Output()))"
      ]
     },
     "metadata": {},
     "output_type": "display_data"
    }
   ],
   "source": [
    "mints_df = pd.DataFrame.from_dict(mints)\n",
    "features_df = pd.DataFrame.from_dict(features)\n",
    "mint_out = widgets.Output()\n",
    "features_out = widgets.Output()\n",
    "with mint_out: \n",
    "    display(HTML('<h3>Mints</h3>'))\n",
    "    display(mints_df)\n",
    "with features_out: \n",
    "    display(HTML('<h3>Features</h3>'))     \n",
    "    display(features_df)\n",
    "box = widgets.HBox([mint_out, features_out])\n",
    "box"
   ]
  }
 ],
 "metadata": {
  "kernelspec": {
   "display_name": "Python 3 (ipykernel)",
   "language": "python",
   "name": "python3"
  },
  "language_info": {
   "codemirror_mode": {
    "name": "ipython",
    "version": 3
   },
   "file_extension": ".py",
   "mimetype": "text/x-python",
   "name": "python",
   "nbconvert_exporter": "python",
   "pygments_lexer": "ipython3",
   "version": "3.9.7"
  }
 },
 "nbformat": 4,
 "nbformat_minor": 5
}
